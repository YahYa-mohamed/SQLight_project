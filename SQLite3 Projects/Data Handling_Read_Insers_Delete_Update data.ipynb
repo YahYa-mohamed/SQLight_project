{
 "cells": [
  {
   "cell_type": "code",
   "execution_count": 1,
   "metadata": {},
   "outputs": [],
   "source": [
    "import sqlite3 as sql"
   ]
  },
  {
   "cell_type": "markdown",
   "metadata": {},
   "source": [
    "# Read data from database"
   ]
  },
  {
   "cell_type": "code",
   "execution_count": 2,
   "metadata": {},
   "outputs": [],
   "source": [
    "connection=sql.connect('weather.db')\n",
    "cursor=connection.cursor()\n",
    "cursor.execute('SELECT * FROM users ')\n",
    "rows=cursor.fetchall()\n",
    "connection.close()"
   ]
  },
  {
   "cell_type": "code",
   "execution_count": 3,
   "metadata": {},
   "outputs": [
    {
     "data": {
      "text/plain": [
       "[(3, 'eman', 'Giza', 20),\n",
       " (12, 'Eslam Ahmed', 'Cairo', 20),\n",
       " (15, 'hamada', 'Cairo', 22),\n",
       " (19, 'Medhat', 'Maadi', 22),\n",
       " (22, 'Menna', 'Cairo', 22),\n",
       " (23, 'Ezz', 'Giza', 22),\n",
       " (25, 'Menna', 'Cairo', 22),\n",
       " (26, 'Ebrahem', 'Giza', 35)]"
      ]
     },
     "execution_count": 3,
     "metadata": {},
     "output_type": "execute_result"
    }
   ],
   "source": [
    "rows"
   ]
  },
  {
   "cell_type": "code",
   "execution_count": 4,
   "metadata": {},
   "outputs": [
    {
     "name": "stdout",
     "output_type": "stream",
     "text": [
      "the id is 3 , the name is eman , the city is Giza , the age is 20\n",
      "the id is 12 , the name is Eslam Ahmed , the city is Cairo , the age is 20\n",
      "the id is 15 , the name is hamada , the city is Cairo , the age is 22\n",
      "the id is 19 , the name is Medhat , the city is Maadi , the age is 22\n",
      "the id is 22 , the name is Menna , the city is Cairo , the age is 22\n",
      "the id is 23 , the name is Ezz , the city is Giza , the age is 22\n",
      "the id is 25 , the name is Menna , the city is Cairo , the age is 22\n",
      "the id is 26 , the name is Ebrahem , the city is Giza , the age is 35\n"
     ]
    }
   ],
   "source": [
    "for Id,name,city,age in rows:\n",
    "    print(f'the id is {Id} , the name is {name} , the city is {city} , the age is {age}')"
   ]
  },
  {
   "cell_type": "markdown",
   "metadata": {},
   "source": [
    "# Use panda to read database and execute SQl"
   ]
  },
  {
   "cell_type": "code",
   "execution_count": 5,
   "metadata": {},
   "outputs": [],
   "source": [
    "import pandas as pd"
   ]
  },
  {
   "cell_type": "code",
   "execution_count": 6,
   "metadata": {},
   "outputs": [
    {
     "data": {
      "text/html": [
       "<div>\n",
       "<style scoped>\n",
       "    .dataframe tbody tr th:only-of-type {\n",
       "        vertical-align: middle;\n",
       "    }\n",
       "\n",
       "    .dataframe tbody tr th {\n",
       "        vertical-align: top;\n",
       "    }\n",
       "\n",
       "    .dataframe thead th {\n",
       "        text-align: right;\n",
       "    }\n",
       "</style>\n",
       "<table border=\"1\" class=\"dataframe\">\n",
       "  <thead>\n",
       "    <tr style=\"text-align: right;\">\n",
       "      <th></th>\n",
       "      <th>id</th>\n",
       "      <th>name</th>\n",
       "      <th>city</th>\n",
       "      <th>age</th>\n",
       "    </tr>\n",
       "  </thead>\n",
       "  <tbody>\n",
       "    <tr>\n",
       "      <th>0</th>\n",
       "      <td>3</td>\n",
       "      <td>eman</td>\n",
       "      <td>Giza</td>\n",
       "      <td>20</td>\n",
       "    </tr>\n",
       "    <tr>\n",
       "      <th>1</th>\n",
       "      <td>12</td>\n",
       "      <td>Eslam Ahmed</td>\n",
       "      <td>Cairo</td>\n",
       "      <td>20</td>\n",
       "    </tr>\n",
       "    <tr>\n",
       "      <th>2</th>\n",
       "      <td>15</td>\n",
       "      <td>hamada</td>\n",
       "      <td>Cairo</td>\n",
       "      <td>22</td>\n",
       "    </tr>\n",
       "    <tr>\n",
       "      <th>3</th>\n",
       "      <td>19</td>\n",
       "      <td>Medhat</td>\n",
       "      <td>Maadi</td>\n",
       "      <td>22</td>\n",
       "    </tr>\n",
       "    <tr>\n",
       "      <th>4</th>\n",
       "      <td>22</td>\n",
       "      <td>Menna</td>\n",
       "      <td>Cairo</td>\n",
       "      <td>22</td>\n",
       "    </tr>\n",
       "  </tbody>\n",
       "</table>\n",
       "</div>"
      ],
      "text/plain": [
       "   id         name   city  age\n",
       "0   3         eman   Giza   20\n",
       "1  12  Eslam Ahmed  Cairo   20\n",
       "2  15       hamada  Cairo   22\n",
       "3  19       Medhat  Maadi   22\n",
       "4  22        Menna  Cairo   22"
      ]
     },
     "execution_count": 6,
     "metadata": {},
     "output_type": "execute_result"
    }
   ],
   "source": [
    "connection=sql.connect('weather.db')\n",
    "df=pd.read_sql('SELECT * FROM users',connection)\n",
    "connection.close()\n",
    "df.head()"
   ]
  },
  {
   "cell_type": "code",
   "execution_count": 7,
   "metadata": {},
   "outputs": [
    {
     "name": "stdout",
     "output_type": "stream",
     "text": [
      "Enter the city:Cairo\n",
      "User's id 12 and dis name is Eslam Ahmed he living in Cairo and his age is 20\n",
      "User's id 15 and dis name is hamada he living in Cairo and his age is 22\n",
      "User's id 22 and dis name is Menna he living in Cairo and his age is 22\n",
      "User's id 25 and dis name is Menna he living in Cairo and his age is 22\n"
     ]
    }
   ],
   "source": [
    "query=input('Enter the city:')\n",
    "connection=sql.connect('weather.db')\n",
    "cursor=connection.cursor()\n",
    "cursor.execute('SELECT * FROM users WHERE city = ?', [query])\n",
    "data=cursor.fetchall()\n",
    "connection.close()\n",
    "for i,n,c,a in data:\n",
    "    print(f'User\\'s id {i} and dis name is {n} he living in {c} and his age is {a}')"
   ]
  },
  {
   "cell_type": "markdown",
   "metadata": {},
   "source": [
    "# Insert Data into Database (Create)"
   ]
  },
  {
   "cell_type": "code",
   "execution_count": 8,
   "metadata": {},
   "outputs": [
    {
     "data": {
      "text/plain": [
       "27"
      ]
     },
     "execution_count": 8,
     "metadata": {},
     "output_type": "execute_result"
    }
   ],
   "source": [
    "connection=sql.connect('weather.db')\n",
    "cursor=connection.cursor()\n",
    "cursor.execute('INSERT INTO users (name,age,city) VALUES (?,?,?)', ['yahya',21,'Cairo'])\n",
    "connection.commit()\n",
    "connection.close()\n",
    "cursor.lastrowid"
   ]
  },
  {
   "cell_type": "code",
   "execution_count": 9,
   "metadata": {},
   "outputs": [
    {
     "data": {
      "text/plain": [
       "28"
      ]
     },
     "execution_count": 9,
     "metadata": {},
     "output_type": "execute_result"
    }
   ],
   "source": [
    "connection=sql.connect('weather.db')\n",
    "cursor=connection.cursor()\n",
    "cursor.execute('INSERT INTO users (name,age,city) VALUES (?,?,?)',['hady',44,'lebnan'])\n",
    "connection.commit()\n",
    "connection.close()\n",
    "cursor.lastrowid"
   ]
  },
  {
   "cell_type": "code",
   "execution_count": 10,
   "metadata": {},
   "outputs": [
    {
     "name": "stdout",
     "output_type": "stream",
     "text": [
      "Enter your name:yahya\n",
      "Enter your age:21\n",
      "Enter your city:Cairo\n"
     ]
    },
    {
     "data": {
      "text/plain": [
       "29"
      ]
     },
     "execution_count": 10,
     "metadata": {},
     "output_type": "execute_result"
    }
   ],
   "source": [
    "name=input('Enter your name:')\n",
    "age=input('Enter your age:')\n",
    "city=input('Enter your city:')\n",
    "connection=sql.connect('weather.db')\n",
    "cursor=connection.cursor()\n",
    "cursor.execute('INSERT INTO users (name,age,city) VALUES(?,?,?)',[name,age,city])\n",
    "connection.commit()\n",
    "connection.close()\n",
    "cursor.lastrowid"
   ]
  },
  {
   "cell_type": "markdown",
   "metadata": {},
   "source": [
    "# Update Data in database"
   ]
  },
  {
   "cell_type": "code",
   "execution_count": 11,
   "metadata": {},
   "outputs": [],
   "source": [
    "connection=sql.connect('weather.db')\n",
    "cursor=connection.cursor()\n",
    "cursor.execute('UPDATE users SET name=?,age=?,city=? WHERE id =?',['yahya',22,'Cairo',28])\n",
    "connection.commit()\n",
    "connection.close()"
   ]
  },
  {
   "cell_type": "markdown",
   "metadata": {},
   "source": [
    "# Delete Data in Database"
   ]
  },
  {
   "cell_type": "code",
   "execution_count": 12,
   "metadata": {},
   "outputs": [],
   "source": [
    "connection=sql.connect('weather.db')\n",
    "cursor=connection.cursor()\n",
    "cursor.execute('DELETE FROM users WHERE age>=30')\n",
    "connection.commit()\n",
    "connection.close()"
   ]
  },
  {
   "cell_type": "markdown",
   "metadata": {},
   "source": [
    "**read data aftre do delete process**"
   ]
  },
  {
   "cell_type": "code",
   "execution_count": 14,
   "metadata": {},
   "outputs": [
    {
     "data": {
      "text/html": [
       "<div>\n",
       "<style scoped>\n",
       "    .dataframe tbody tr th:only-of-type {\n",
       "        vertical-align: middle;\n",
       "    }\n",
       "\n",
       "    .dataframe tbody tr th {\n",
       "        vertical-align: top;\n",
       "    }\n",
       "\n",
       "    .dataframe thead th {\n",
       "        text-align: right;\n",
       "    }\n",
       "</style>\n",
       "<table border=\"1\" class=\"dataframe\">\n",
       "  <thead>\n",
       "    <tr style=\"text-align: right;\">\n",
       "      <th></th>\n",
       "      <th>id</th>\n",
       "      <th>name</th>\n",
       "      <th>city</th>\n",
       "      <th>age</th>\n",
       "    </tr>\n",
       "  </thead>\n",
       "  <tbody>\n",
       "    <tr>\n",
       "      <th>0</th>\n",
       "      <td>3</td>\n",
       "      <td>eman</td>\n",
       "      <td>Giza</td>\n",
       "      <td>20</td>\n",
       "    </tr>\n",
       "    <tr>\n",
       "      <th>1</th>\n",
       "      <td>12</td>\n",
       "      <td>Eslam Ahmed</td>\n",
       "      <td>Cairo</td>\n",
       "      <td>20</td>\n",
       "    </tr>\n",
       "    <tr>\n",
       "      <th>2</th>\n",
       "      <td>15</td>\n",
       "      <td>hamada</td>\n",
       "      <td>Cairo</td>\n",
       "      <td>22</td>\n",
       "    </tr>\n",
       "    <tr>\n",
       "      <th>3</th>\n",
       "      <td>19</td>\n",
       "      <td>Medhat</td>\n",
       "      <td>Maadi</td>\n",
       "      <td>22</td>\n",
       "    </tr>\n",
       "    <tr>\n",
       "      <th>4</th>\n",
       "      <td>22</td>\n",
       "      <td>Menna</td>\n",
       "      <td>Cairo</td>\n",
       "      <td>22</td>\n",
       "    </tr>\n",
       "    <tr>\n",
       "      <th>5</th>\n",
       "      <td>23</td>\n",
       "      <td>Ezz</td>\n",
       "      <td>Giza</td>\n",
       "      <td>22</td>\n",
       "    </tr>\n",
       "    <tr>\n",
       "      <th>6</th>\n",
       "      <td>25</td>\n",
       "      <td>Menna</td>\n",
       "      <td>Cairo</td>\n",
       "      <td>22</td>\n",
       "    </tr>\n",
       "    <tr>\n",
       "      <th>7</th>\n",
       "      <td>27</td>\n",
       "      <td>yahya</td>\n",
       "      <td>Cairo</td>\n",
       "      <td>21</td>\n",
       "    </tr>\n",
       "    <tr>\n",
       "      <th>8</th>\n",
       "      <td>28</td>\n",
       "      <td>yahya</td>\n",
       "      <td>Cairo</td>\n",
       "      <td>22</td>\n",
       "    </tr>\n",
       "    <tr>\n",
       "      <th>9</th>\n",
       "      <td>29</td>\n",
       "      <td>yahya</td>\n",
       "      <td>Cairo</td>\n",
       "      <td>21</td>\n",
       "    </tr>\n",
       "  </tbody>\n",
       "</table>\n",
       "</div>"
      ],
      "text/plain": [
       "   id         name   city  age\n",
       "0   3         eman   Giza   20\n",
       "1  12  Eslam Ahmed  Cairo   20\n",
       "2  15       hamada  Cairo   22\n",
       "3  19       Medhat  Maadi   22\n",
       "4  22        Menna  Cairo   22\n",
       "5  23          Ezz   Giza   22\n",
       "6  25        Menna  Cairo   22\n",
       "7  27        yahya  Cairo   21\n",
       "8  28        yahya  Cairo   22\n",
       "9  29        yahya  Cairo   21"
      ]
     },
     "execution_count": 14,
     "metadata": {},
     "output_type": "execute_result"
    }
   ],
   "source": [
    "connection=sql.connect('weather.db')\n",
    "cursor=connection.cursor()\n",
    "df=pd.read_sql('SELECT * FROM users',connection)\n",
    "connection.close()\n",
    "df"
   ]
  },
  {
   "cell_type": "code",
   "execution_count": null,
   "metadata": {},
   "outputs": [],
   "source": []
  }
 ],
 "metadata": {
  "kernelspec": {
   "display_name": "Python 3",
   "language": "python",
   "name": "python3"
  },
  "language_info": {
   "codemirror_mode": {
    "name": "ipython",
    "version": 3
   },
   "file_extension": ".py",
   "mimetype": "text/x-python",
   "name": "python",
   "nbconvert_exporter": "python",
   "pygments_lexer": "ipython3",
   "version": "3.7.6"
  }
 },
 "nbformat": 4,
 "nbformat_minor": 4
}
