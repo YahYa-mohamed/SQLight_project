{
 "cells": [
  {
   "cell_type": "code",
   "execution_count": 1,
   "metadata": {},
   "outputs": [],
   "source": [
    "import requests as rq\n",
    "from bs4 import BeautifulSoup as bs\n",
    "import pandas as pd\n",
    "import sqlite3 as sql\n",
    "import time"
   ]
  },
  {
   "cell_type": "code",
   "execution_count": null,
   "metadata": {},
   "outputs": [],
   "source": [
    "for i in range(10):\n",
    "    url='https://eg.freemeteo.com/weather/cairo/current-weather/location/?gid=360630&language=english&country=egypt'\n",
    "    response=rq.get(url).text\n",
    "    soup=bs(response,'html.parser')\n",
    "    weather = soup.find('div', attrs={'class': 'temp'}).get_text()\n",
    "    weather = float(weather.split('°')[0])\n",
    "    wind = soup.find('div', attrs={'class': 'wind'}).get_text()\n",
    "    wind = float(wind.split(' ')[1])\n",
    "    stats = soup.find('div', attrs={'class': 'stats'}).get_text()\n",
    "    "
   ]
  }
 ],
 "metadata": {
  "kernelspec": {
   "display_name": "Python 3",
   "language": "python",
   "name": "python3"
  },
  "language_info": {
   "codemirror_mode": {
    "name": "ipython",
    "version": 3
   },
   "file_extension": ".py",
   "mimetype": "text/x-python",
   "name": "python",
   "nbconvert_exporter": "python",
   "pygments_lexer": "ipython3",
   "version": "3.7.6"
  }
 },
 "nbformat": 4,
 "nbformat_minor": 4
}
